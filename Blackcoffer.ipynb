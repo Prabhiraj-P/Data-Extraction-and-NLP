{
  "nbformat": 4,
  "nbformat_minor": 0,
  "metadata": {
    "colab": {
      "provenance": []
    },
    "kernelspec": {
      "name": "python3",
      "display_name": "Python 3"
    },
    "language_info": {
      "name": "python"
    }
  },
  "cells": [
    {
      "cell_type": "markdown",
      "source": [
        "###Data Extraction and NLP"
      ],
      "metadata": {
        "id": "ef5LrCSCyHQt"
      }
    },
    {
      "cell_type": "code",
      "execution_count": 1,
      "metadata": {
        "id": "Bxv8si8Wx7Y1"
      },
      "outputs": [],
      "source": [
        "#importing libraries\n",
        "import pandas as pd\n",
        "import requests\n",
        "from bs4 import BeautifulSoup"
      ]
    },
    {
      "cell_type": "code",
      "source": [
        "#url\n",
        "url=\"https://insights.blackcoffer.com/ai-in-healthcare-to-improve-patient-outcomes/\"\n",
        "response=requests.get(url)"
      ],
      "metadata": {
        "id": "ZltjhHjyy0vh"
      },
      "execution_count": 3,
      "outputs": []
    },
    {
      "cell_type": "code",
      "source": [
        "soup=BeautifulSoup(response.content,'html.parser')"
      ],
      "metadata": {
        "id": "V6dwBfYSzVPX"
      },
      "execution_count": 5,
      "outputs": []
    },
    {
      "cell_type": "code",
      "source": [
        "print(soup.prettify)"
      ],
      "metadata": {
        "id": "omtbuZwzzzBB"
      },
      "execution_count": null,
      "outputs": []
    }
  ]
}